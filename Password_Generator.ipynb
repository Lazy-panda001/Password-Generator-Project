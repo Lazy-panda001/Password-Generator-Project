{
 "cells": [
  {
   "cell_type": "code",
   "execution_count": 20,
   "metadata": {},
   "outputs": [
    {
     "name": "stdout",
     "output_type": "stream",
     "text": [
      "Total passwords do you want to generate? 2\n",
      "I want to generate 2 passwords\n",
      "Minimum length of password should be 3\n",
      "Enter the length of Password : #1 5\n",
      "Enter the length of Password : #2 6\n",
      "Password #1 = 9xSss\n",
      "Password #2 = kt3kIg\n"
     ]
    }
   ],
   "source": [
    "import random\n",
    "\n",
    "def Password_Generator(pwlength):\n",
    "\n",
    "    alphabet = \"abcdefghijklmnopqrstuvwxyz\"\n",
    "\n",
    "    Passwords_list = [] \n",
    "\n",
    "    for i in pwlength:\n",
    "        \n",
    "        password = \"\" \n",
    "        for j in range(i):\n",
    "            next_letter_index = random.randrange(len(alphabet))\n",
    "            password = password + alphabet[next_letter_index]\n",
    "        \n",
    "        password = ReplaceByNumber(password)\n",
    "        password = replaceWithUppercaseLetter(password)\n",
    "        \n",
    "        Passwords_list.append(password) \n",
    "    \n",
    "    return Passwords_list\n",
    "\n",
    "\n",
    "def ReplaceByNumber(pword):\n",
    "    for i in range(random.randrange(1,3)):\n",
    "        replace_index = random.randrange(len(pword)//2)\n",
    "        pword = pword[0:replace_index] + str(random.randrange(10)) + pword[replace_index+1:]\n",
    "        return pword\n",
    "\n",
    "\n",
    "def replaceWithUppercaseLetter(pword):\n",
    "    for i in range(random.randrange(1,3)):\n",
    "        replace_index = random.randrange(len(pword)//2,len(pword))\n",
    "        pword = pword[0:replace_index] + pword[replace_index].upper() + pword[replace_index+1:]\n",
    "        return pword\n",
    "\n",
    "\n",
    "\n",
    "def main():\n",
    "    \n",
    "    numPasswords = int(input(\"Total passwords do you want to generate? \"))\n",
    "    \n",
    "    print(\"I want to generate \" +str(numPasswords)+\" passwords\")\n",
    "    \n",
    "    passwordLengths = []\n",
    "\n",
    "    print(\"Minimum length of password should be 3\")\n",
    "\n",
    "    for i in range(numPasswords):\n",
    "        length = int(input(\"Enter the length of Password : #\" + str(i+1) + \" \"))\n",
    "        if length<3:\n",
    "            length = 3                 # if password length is less than 3 then it will add any alphabet to make 3 length\n",
    "        passwordLengths.append(length)\n",
    "    \n",
    "    \n",
    "    Password = Password_Generator(passwordLengths)\n",
    "\n",
    "    for i in range(numPasswords):\n",
    "        print (\"Password #\"+str(i+1)+\" = \" + Password[i])\n",
    "\n",
    "\n",
    "\n",
    "main()"
   ]
  },
  {
   "cell_type": "code",
   "execution_count": null,
   "metadata": {},
   "outputs": [],
   "source": []
  },
  {
   "cell_type": "code",
   "execution_count": null,
   "metadata": {},
   "outputs": [],
   "source": []
  }
 ],
 "metadata": {
  "kernelspec": {
   "display_name": "Python 3",
   "language": "python",
   "name": "python3"
  },
  "language_info": {
   "codemirror_mode": {
    "name": "ipython",
    "version": 3
   },
   "file_extension": ".py",
   "mimetype": "text/x-python",
   "name": "python",
   "nbconvert_exporter": "python",
   "pygments_lexer": "ipython3",
   "version": "3.8.5"
  }
 },
 "nbformat": 4,
 "nbformat_minor": 4
}
